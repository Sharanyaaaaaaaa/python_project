{
 "cells": [
  {
   "cell_type": "code",
   "execution_count": 2,
   "id": "69cbe4bb-1161-415c-a526-73900f5941c8",
   "metadata": {},
   "outputs": [],
   "source": [
    "#CCD color choices  game"
   ]
  },
  {
   "cell_type": "code",
   "execution_count": 2,
   "id": "30dececb-b6c4-4762-bf83-f526cacd2e04",
   "metadata": {},
   "outputs": [],
   "source": [
    "import random"
   ]
  },
  {
   "cell_type": "code",
   "execution_count": 3,
   "id": "d6dd7c14-8940-4525-a166-d82182e923d2",
   "metadata": {},
   "outputs": [
    {
     "name": "stdout",
     "output_type": "stream",
     "text": [
      "Winning rules of the color choice game as follows:\n",
      "Enter a number from one to five and match computer choice to win the computer\n",
      "red = 1\n",
      "yellow = 2 \n",
      "orange = 3 \n",
      "blue = 4 \n",
      "green = 5 \n",
      " take a turn:\n"
     ]
    },
    {
     "name": "stdin",
     "output_type": "stream",
     "text": [
      "user turn:  3\n"
     ]
    },
    {
     "name": "stdout",
     "output_type": "stream",
     "text": [
      "user color choice is: orange\n",
      "\n",
      "Now its computer turn to choose a color..\n",
      "computer color choice is: green\n",
      "player score:0\n",
      "computer score:1\n",
      "do u want to play again?(Y/N)\n"
     ]
    },
    {
     "name": "stdin",
     "output_type": "stream",
     "text": [
      " y\n"
     ]
    },
    {
     "name": "stdout",
     "output_type": "stream",
     "text": [
      "red = 1\n",
      "yellow = 2 \n",
      "orange = 3 \n",
      "blue = 4 \n",
      "green = 5 \n",
      " take a turn:\n"
     ]
    },
    {
     "name": "stdin",
     "output_type": "stream",
     "text": [
      "user turn:  2\n"
     ]
    },
    {
     "name": "stdout",
     "output_type": "stream",
     "text": [
      "user color choice is: yellow\n",
      "\n",
      "Now its computer turn to choose a color..\n",
      "computer color choice is: yellow\n",
      "player score:1\n",
      "computer score:1\n",
      "do u want to play again?(Y/N)\n"
     ]
    },
    {
     "name": "stdin",
     "output_type": "stream",
     "text": [
      " n\n"
     ]
    }
   ],
   "source": [
    "print(\"Winning rules of the color choice game as follows:\" + \"\\nEnter a number from one to five and match computer choice to win the computer\")\n",
    "computer_score=0\n",
    "player_score=0\n",
    "\n",
    "while True:\n",
    "    print(\"red = 1\\nyellow = 2 \\norange = 3 \\nblue = 4 \\ngreen = 5 \\n take a turn:\")\n",
    "\n",
    "    player_choice = int(input(\"user turn: \"))\n",
    "\n",
    "    while player_choice > 5 and player_choice < 1:\n",
    "        player_choice = int(input(\"enter valid input: \"))\n",
    "\n",
    "    if player_choice == 1:\n",
    "        choice_col= 'red'\n",
    "    elif player_choice == 2:\n",
    "        choice_col = 'yellow'\n",
    "    elif player_choice == 3:\n",
    "        choice_col = 'orange'\n",
    "    elif player_choice == 4:\n",
    "        choice_col = 'blue'\n",
    "    else:\n",
    "        choice_col = 'green'\n",
    "\n",
    "    print(\"user color choice is: \" + choice_col)\n",
    "    print(\"\\nNow its computer turn to choose a color..\")\n",
    "\n",
    "    computer_choice = random.randint(1,5)\n",
    "    #while computer_choice == player_choice:\n",
    "       # computer_choice = random.randint(1,5)\n",
    "\n",
    "    if computer_choice == 1:\n",
    "        comp_choice_col= 'red'\n",
    "    elif computer_choice == 2:\n",
    "        comp_choice_col = 'yellow'\n",
    "    elif computer_choice == 3:\n",
    "        comp_choice_col = 'orange'\n",
    "    elif computer_choice == 4:\n",
    "        comp_choice_col = 'blue'\n",
    "    else:\n",
    "        comp_choice_col = 'green'\n",
    "\n",
    "    print(\"computer color choice is: \" + comp_choice_col)\n",
    "\n",
    "    if(choice_col == comp_choice_col):\n",
    "        player_score += 1\n",
    "        print(\"player score:\" + str(player_score))\n",
    "        print(\"computer score:\" + str(computer_score))\n",
    "    else:\n",
    "        computer_score += 1\n",
    "        print(\"player score:\" + str(player_score))\n",
    "        print(\"computer score:\" + str(computer_score))\n",
    "    print(\"do u want to play again?(Y/N)\")\n",
    "    answer = input()\n",
    "\n",
    "    if answer == 'n' or answer == 'N':\n",
    "        break\n",
    "        \n"
   ]
  },
  {
   "cell_type": "code",
   "execution_count": 4,
   "id": "50bf5141-838c-4fc6-88f3-3a89584cfb62",
   "metadata": {},
   "outputs": [
    {
     "name": "stdout",
     "output_type": "stream",
     "text": [
      "game is tied\n",
      "\n",
      " thanks for playing\n"
     ]
    }
   ],
   "source": [
    "if computer_score == player_score:\n",
    "    print(\"game is tied\")\n",
    "    print(\"\\n thanks for playing\")\n",
    "elif computer_score<player_score:\n",
    "    print(\"player is victorious\")\n",
    "    print(\"<==user wins==>\")\n",
    "    print(\"\\n thanks for playing\")\n",
    "elif computer_score>player_score:\n",
    "    print(\"\\n<==computer wins==>\")\n",
    "    print(\"\\n player is defeated\")\n",
    "    print(\"\\n thanks for playing\")\n",
    "    "
   ]
  },
  {
   "cell_type": "code",
   "execution_count": null,
   "id": "812f7839-9503-4e91-9ebf-53a6df1f50f3",
   "metadata": {},
   "outputs": [],
   "source": []
  }
 ],
 "metadata": {
  "kernelspec": {
   "display_name": "Python [conda env:base] *",
   "language": "python",
   "name": "conda-base-py"
  },
  "language_info": {
   "codemirror_mode": {
    "name": "ipython",
    "version": 3
   },
   "file_extension": ".py",
   "mimetype": "text/x-python",
   "name": "python",
   "nbconvert_exporter": "python",
   "pygments_lexer": "ipython3",
   "version": "3.13.5"
  }
 },
 "nbformat": 4,
 "nbformat_minor": 5
}
