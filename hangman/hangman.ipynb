{
 "cells": [
  {
   "cell_type": "code",
   "execution_count": 1,
   "id": "e641f3e5-edcf-45d1-9587-ce74417e5b26",
   "metadata": {},
   "outputs": [
    {
     "name": "stdout",
     "output_type": "stream",
     "text": [
      "\n",
      " _                                             \n",
      "| |                                            \n",
      "| |__   __ _ _ __   __ _ _ __ ___   __ _ _ __  \n",
      "| '_ \\ / _` | '_ \\ / _` | '_ ` _ \\ / _` | '_ \\ \n",
      "| | | | (_| | | | | (_| | | | | | | (_| | | | |\n",
      "|_| |_|\\__,_|_| |_|\\__, |_| |_| |_|\\__,_|_| |_|\n",
      "                    __/ |                      \n",
      "                   |___/                       \n",
      "\n"
     ]
    }
   ],
   "source": [
    "import random\n",
    "#from hangman_guessing import guess_list\n",
    "from hangman_guessing import guess_list\n",
    "\n",
    "guessing_word = random.choice(guess_list).lower()\n",
    "word_letters = len(guessing_word)\n",
    "\n",
    "game_over = False\n",
    "tries = 6\n",
    "\n",
    "from hangman_life import game_name\n",
    "print(game_name)\n",
    "\n",
    "#print(f'The word you guessed is {guessing_word}')\n",
    " \n"
   ]
  },
  {
   "cell_type": "code",
   "execution_count": 2,
   "id": "d08d70a7-9a0d-427b-a5a1-4f66df2c4d85",
   "metadata": {},
   "outputs": [
    {
     "name": "stdin",
     "output_type": "stream",
     "text": [
      "Guess a letter: p\n"
     ]
    },
    {
     "name": "stdout",
     "output_type": "stream",
     "text": [
      "You guessed p, This letter is not in the word, you lose a try\n",
      "_ _ _ _ _ _\n",
      "\n",
      "        +---+\n",
      "    |   |\n",
      "    O   |\n",
      "        |\n",
      "        |\n",
      "        |\n",
      "    ========= \n",
      "    \n"
     ]
    },
    {
     "name": "stdin",
     "output_type": "stream",
     "text": [
      "Guess a letter: a\n"
     ]
    },
    {
     "name": "stdout",
     "output_type": "stream",
     "text": [
      "_ a _ a _ a\n",
      "\n",
      "        +---+\n",
      "    |   |\n",
      "    O   |\n",
      "        |\n",
      "        |\n",
      "        |\n",
      "    ========= \n",
      "    \n"
     ]
    },
    {
     "name": "stdin",
     "output_type": "stream",
     "text": [
      "Guess a letter: b\n"
     ]
    },
    {
     "name": "stdout",
     "output_type": "stream",
     "text": [
      "b a _ a _ a\n",
      "\n",
      "        +---+\n",
      "    |   |\n",
      "    O   |\n",
      "        |\n",
      "        |\n",
      "        |\n",
      "    ========= \n",
      "    \n"
     ]
    },
    {
     "name": "stdin",
     "output_type": "stream",
     "text": [
      "Guess a letter: n\n"
     ]
    },
    {
     "name": "stdout",
     "output_type": "stream",
     "text": [
      "b a n a n a\n",
      "You are a winner, Congratulations\n",
      "The word was banana\n",
      "\n",
      "        +---+\n",
      "    |   |\n",
      "    O   |\n",
      "        |\n",
      "        |\n",
      "        |\n",
      "    ========= \n",
      "    \n"
     ]
    }
   ],
   "source": [
    "result = []\n",
    "\n",
    "for _ in range(word_letters):\n",
    "    result += '_'\n",
    "\n",
    "while not game_over:\n",
    "    user_guessing = input('Guess a letter:')\n",
    "\n",
    "    if user_guessing in result:\n",
    "        print(f' The letter you have guessed is {user_guessing}')\n",
    "\n",
    "    for position in range(word_letters):\n",
    "        letter = guessing_word[position]\n",
    "        if letter == user_guessing:\n",
    "            result[position] = letter\n",
    "\n",
    "    if user_guessing not in guessing_word:\n",
    "        print(f'You guessed {user_guessing}, This letter is not in the word, you lose a try')\n",
    "        tries-=1\n",
    "        if tries == 0:\n",
    "            game_over = True\n",
    "            print('Game Over,You lose the game, try again later')\n",
    "            print(f'The word was {guessing_word}')\n",
    "\n",
    "    print(f\"{' '.join(result)}\")\n",
    "\n",
    "    if '_' not in result:\n",
    "        game_over = True\n",
    "        print('You are a winner, Congratulations')\n",
    "        print(f'The word was {guessing_word}')\n",
    "\n",
    "    from hangman_life import lives\n",
    "    print(lives[tries])\n",
    "        \n",
    "        \n",
    "\n",
    "    "
   ]
  },
  {
   "cell_type": "code",
   "execution_count": null,
   "id": "24b9ea10-b03e-48a3-8413-8ae96e91769c",
   "metadata": {},
   "outputs": [],
   "source": []
  }
 ],
 "metadata": {
  "kernelspec": {
   "display_name": "Python [conda env:base] *",
   "language": "python",
   "name": "conda-base-py"
  },
  "language_info": {
   "codemirror_mode": {
    "name": "ipython",
    "version": 3
   },
   "file_extension": ".py",
   "mimetype": "text/x-python",
   "name": "python",
   "nbconvert_exporter": "python",
   "pygments_lexer": "ipython3",
   "version": "3.13.5"
  }
 },
 "nbformat": 4,
 "nbformat_minor": 5
}
