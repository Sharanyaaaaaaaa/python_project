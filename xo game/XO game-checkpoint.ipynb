{
 "cells": [
  {
   "cell_type": "code",
   "execution_count": 11,
   "id": "4d1ef942-f5a7-4843-9564-75a4278ab850",
   "metadata": {},
   "outputs": [],
   "source": [
    "class Gameboard():\n",
    "    def __init__(self):\n",
    "        self.game_board={1:' ',2:' ' ,3:' ',4:' ',5:' ',6:' ',7:' ',8:' ',9:' '}\n",
    "\n",
    "    def set_items(self,user,position,game_board):\n",
    "        game_board[position]=user\n",
    "        return game_board\n",
    "    @property\n",
    "    def gameBoard(self):\n",
    "        return self.game_board\n",
    "    def clearboard(self):\n",
    "        self.game_board={1:' ',2:' ' ,3:' ',4:' ',5:' ',6:' ',7:' ',8:' ',9:' '}\n",
    "    def is_place_taken(self,game_board,index):\n",
    "        if game_board[index] != ' ' :\n",
    "            return True\n",
    "    def is_board_full(self,game_board): \n",
    "        for index in range(1,10):\n",
    "            if game_board[index]== ' ':\n",
    "                return False\n",
    "        return True\n",
    "    def is_game_won(slef,game_board):\n",
    "        win_conds = ((1,2,3),(4,5,6),(7,8,9),(1,4,7),(2,5,8),(3,6,9),(1,5,9),(3,5,7))\n",
    "        for win_cond in win_conds:\n",
    "            if game_board[win_cond[0]] == game_board[win_cond[1]] and game_board[win_cond[1]] == game_board[win_cond[2]] and game_board[win_cond[0]]!= ' ':\n",
    "                return True\n",
    "    def printBoard(self,game_board):\n",
    "        index = 0\n",
    "        for row in range(1,4):\n",
    "            for column in range(1,4):\n",
    "                index += 1\n",
    "                if column != 3:\n",
    "                    print(game_board[index], end=' ' )\n",
    "                    print(' | ',end = ' ' )\n",
    "                else:\n",
    "                    print(game_board[index])"
   ]
  },
  {
   "cell_type": "code",
   "execution_count": 15,
   "id": "efd4760a-353c-48ec-b988-bd8469a66dff",
   "metadata": {},
   "outputs": [
    {
     "name": "stdout",
     "output_type": "stream",
     "text": [
      "Welcome to X-O Game\n",
      "Please enter player one's name\n"
     ]
    },
    {
     "name": "stdin",
     "output_type": "stream",
     "text": [
      " :  s \n"
     ]
    },
    {
     "name": "stdout",
     "output_type": "stream",
     "text": [
      "Please enter player two's name\n"
     ]
    },
    {
     "name": "stdin",
     "output_type": "stream",
     "text": [
      " :  t\n"
     ]
    },
    {
     "name": "stdout",
     "output_type": "stream",
     "text": [
      "Here is your game board, each place is represented by 1-9, starting from left column each time and moving along the row\n",
      "   |     |   \n",
      "   |     |   \n",
      "   |     |   \n",
      "s choose a place, 1-9\n"
     ]
    },
    {
     "name": "stdin",
     "output_type": "stream",
     "text": [
      ":  1\n"
     ]
    },
    {
     "name": "stdout",
     "output_type": "stream",
     "text": [
      "O  |     |   \n",
      "   |     |   \n",
      "   |     |   \n",
      "tchoose a place, 1-9\n"
     ]
    },
    {
     "name": "stdin",
     "output_type": "stream",
     "text": [
      ":  3\n"
     ]
    },
    {
     "name": "stdout",
     "output_type": "stream",
     "text": [
      "O  |     |  X\n",
      "   |     |   \n",
      "   |     |   \n",
      "s choose a place, 1-9\n"
     ]
    },
    {
     "name": "stdin",
     "output_type": "stream",
     "text": [
      ":  4\n"
     ]
    },
    {
     "name": "stdout",
     "output_type": "stream",
     "text": [
      "O  |     |  X\n",
      "O  |     |   \n",
      "   |     |   \n",
      "tchoose a place, 1-9\n"
     ]
    },
    {
     "name": "stdin",
     "output_type": "stream",
     "text": [
      ":  7\n"
     ]
    },
    {
     "name": "stdout",
     "output_type": "stream",
     "text": [
      "O  |     |  X\n",
      "O  |     |   \n",
      "X  |     |   \n",
      "s choose a place, 1-9\n"
     ]
    },
    {
     "name": "stdin",
     "output_type": "stream",
     "text": [
      ":  5\n"
     ]
    },
    {
     "name": "stdout",
     "output_type": "stream",
     "text": [
      "O  |     |  X\n",
      "O  |  O  |   \n",
      "X  |     |   \n",
      "tchoose a place, 1-9\n"
     ]
    },
    {
     "name": "stdin",
     "output_type": "stream",
     "text": [
      ":  6\n"
     ]
    },
    {
     "name": "stdout",
     "output_type": "stream",
     "text": [
      "O  |     |  X\n",
      "O  |  O  |  X\n",
      "X  |     |   \n",
      "s choose a place, 1-9\n"
     ]
    },
    {
     "name": "stdin",
     "output_type": "stream",
     "text": [
      ":  9\n"
     ]
    },
    {
     "name": "stdout",
     "output_type": "stream",
     "text": [
      "O  |     |  X\n",
      "O  |  O  |  X\n",
      "X  |     |  O\n",
      "s  wins.\n"
     ]
    },
    {
     "name": "stdin",
     "output_type": "stream",
     "text": [
      "Press 0 to quit or 1 to play again:  0\n"
     ]
    }
   ],
   "source": [
    "class Game():\n",
    "    def game_start(self):\n",
    "        self.controlBoard = Gameboard()\n",
    "        self.game_board = self.controlBoard.gameBoard\n",
    "        self.playerOne = 'O'\n",
    "        self.playerTwo = 'X'\n",
    "        print(\"Welcome to X-O Game\")\n",
    "        print(\"Please enter player one's name\")\n",
    "        self.player_one = input(' : ')\n",
    "        print(\"Please enter player two's name\")\n",
    "        self.player_two = input(' : ')\n",
    "        print('Here is your game board, each place is represented by 1-9, starting from left column each time and moving along the row')\n",
    "        self.controlBoard.printBoard(self.game_board)\n",
    "        self.turn = 1\n",
    "\n",
    "    def game_end(self):\n",
    "        if self.game_running == False:\n",
    "            replay = input('Press 0 to quit or 1 to play again: ')\n",
    "            try:\n",
    "                if int(replay):\n",
    "                    self.game_running = True\n",
    "                    self.game_start()\n",
    "            except:\n",
    "                print(\" A number must be  entered.\")\n",
    "                self.game_end()\n",
    "\n",
    "    def takeTurn(self, user, item):\n",
    "        print(user + 'choose a place, 1-9')\n",
    "        try:\n",
    "            position = int(input(': '))\n",
    "            if position > 9 or position < 1:\n",
    "                raise Exception\n",
    "        except:\n",
    "            print('Pick a number between 1-9')\n",
    "            return self.takeTurn(user, item)\n",
    "\n",
    "        if self.controlBoard.is_place_taken(self.game_board,position):\n",
    "            print(\"That place is taken\")\n",
    "            self.takeTurn(user, item)\n",
    "        else:\n",
    "            self.controlBoard.set_items(item, position, self.game_board)\n",
    "            self.controlBoard.printBoard(self.game_board)\n",
    "            if self.controlBoard.is_game_won(self.game_board):\n",
    "                print(user + \" wins.\")\n",
    "                self.game_running = False\n",
    "\n",
    "\n",
    "    def main(self,):\n",
    "        self.game_running = True\n",
    "        self.game_start()\n",
    "        while self.game_running:\n",
    "            if self.turn%2 !=0:\n",
    "                self.takeTurn(self.player_one,'O')\n",
    "            else:\n",
    "                self.takeTurn(self.player_two,'X')\n",
    "\n",
    "            if self.controlBoard.is_board_full(self.game_board):\n",
    "                print(\"Its a draw! You both lose!\")\n",
    "                self.game_running = False\n",
    "            self.turn += 1\n",
    "\n",
    "            if not self.game_running:\n",
    "                self.game_end()\n",
    "                \n",
    "if __name__ == '__main__':\n",
    "    Game().main()\n",
    "                \n",
    "\n",
    "        \n",
    "        \n",
    "        \n",
    "    "
   ]
  },
  {
   "cell_type": "code",
   "execution_count": null,
   "id": "5a410e00-edc8-4b2c-959a-68fa8a722ed6",
   "metadata": {},
   "outputs": [],
   "source": []
  }
 ],
 "metadata": {
  "kernelspec": {
   "display_name": "Python [conda env:base] *",
   "language": "python",
   "name": "conda-base-py"
  },
  "language_info": {
   "codemirror_mode": {
    "name": "ipython",
    "version": 3
   },
   "file_extension": ".py",
   "mimetype": "text/x-python",
   "name": "python",
   "nbconvert_exporter": "python",
   "pygments_lexer": "ipython3",
   "version": "3.13.5"
  }
 },
 "nbformat": 4,
 "nbformat_minor": 5
}
